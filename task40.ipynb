df = pd.read_csv('sample_data/california_housing_train.csv')
df.head()
df.loc[df['population'] < 500, 'median_house_value'].mean()
# .median() - медиана
# 5 8 12 18 20 23
# 14,(3) - среднее значение
# (12 + 18) / 2 = 15
