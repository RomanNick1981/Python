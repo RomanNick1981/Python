df = pd.read_csv('sample_data/california_housing_train.csv')
df.head()
df[df['population'] < 500]['median_house_value'].mean()
